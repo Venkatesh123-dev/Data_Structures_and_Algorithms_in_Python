{
 "cells": [
  {
   "cell_type": "markdown",
   "metadata": {},
   "source": [
    "# Chapter 09: Priority Queues"
   ]
  },
  {
   "cell_type": "markdown",
   "metadata": {},
   "source": [
    "## 9.1 Priority Queue Abstract Data Type"
   ]
  },
  {
   "cell_type": "markdown",
   "metadata": {},
   "source": [
    "### 9.1.1 Priorities"
   ]
  },
  {
   "cell_type": "markdown",
   "metadata": {},
   "source": [
    "In previous section, queue is defined as a collection of object, follows **first-in, first-out (FIFO)** principle. Howver, in practice, we might want to make adjustments in order as necessary. **Priority queue** is a collection of prioritized elements that allow arbitrary element insertion, and allows the removal of the element that has first priority. When an element is added to a priority queue, the user designates its priority by providing an associated **key**. The element with the *minimum* keywill be the next to be removed from the queue."
   ]
  },
  {
   "cell_type": "markdown",
   "metadata": {},
   "source": [
    "### 9.1.2 The Priority Queue ADT"
   ]
  },
  {
   "cell_type": "markdown",
   "metadata": {},
   "source": [
    "Formally, we model an element and its priority as a key-value pari. Priority queue is notead as `P`."
   ]
  },
  {
   "cell_type": "markdown",
   "metadata": {},
   "source": [
    "* `P.add(k, v)`: Insert an item with key `k` and value `v` into priority queue `P`.\n",
    "* `P.min()`: Return a tuple, `(k, v)`, representing the key and value of an item in priority queue `P` with minimum key (but do not remove the item); an error occurs if the priority queue is empty.\n",
    "* `P.remove_min()`: Remove an item with minimum key from priority queue `P`, and **return a tuple**, `(k, v)`, representing the key and value of the removed item; an error occurs if the priority queue is empty.\n",
    "* `P.is_empty()`: Return `True` if priority queue `P` does not contain any items.\n",
    "* `len(P)`: Return the number of items in priority queue `P`."
   ]
  },
  {
   "cell_type": "markdown",
   "metadata": {},
   "source": [
    "## 9.2 Implementing a Priority Queue"
   ]
  },
  {
   "cell_type": "markdown",
   "metadata": {},
   "source": [
    "### 9.2.1 The Composition Design Pattern"
   ]
  },
  {
   "cell_type": "markdown",
   "metadata": {},
   "source": [
    "We introdue the **composition design pattern**, defining an `_Item` class that assured that each element reamined paired with its associated count in our primary data structure."
   ]
  },
  {
   "cell_type": "code",
   "execution_count": 1,
   "metadata": {},
   "outputs": [],
   "source": [
    "class PriorityQueueBase:\n",
    "    \"\"\"Abstract base class for a priority queue.\"\"\"\n",
    "    \n",
    "    class _Item:\n",
    "        \"\"\"Lightweight composite to store priority queue items.\"\"\"\n",
    "        __slots__ = '_key', '_value'\n",
    "        \n",
    "        def __init__(self, k, v):\n",
    "            self._key = k\n",
    "            self._value = v\n",
    "            \n",
    "        def __lt__(self, other):\n",
    "            return self._key < other._key\n",
    "        \n",
    "    def is_empty(self):\n",
    "        \"\"\"Return True if the priority queue is empty.\"\"\"\n",
    "        return len(self) == 0"
   ]
  },
  {
   "cell_type": "code",
   "execution_count": null,
   "metadata": {},
   "outputs": [],
   "source": []
  }
 ],
 "metadata": {
  "kernelspec": {
   "display_name": "Python 3",
   "language": "python",
   "name": "python3"
  },
  "language_info": {
   "codemirror_mode": {
    "name": "ipython",
    "version": 3
   },
   "file_extension": ".py",
   "mimetype": "text/x-python",
   "name": "python",
   "nbconvert_exporter": "python",
   "pygments_lexer": "ipython3",
   "version": "3.8.6"
  }
 },
 "nbformat": 4,
 "nbformat_minor": 4
}
